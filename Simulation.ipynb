{
 "cells": [
  {
   "cell_type": "code",
   "execution_count": 67,
   "metadata": {},
   "outputs": [],
   "source": [
    "%matplotlib inline"
   ]
  },
  {
   "cell_type": "code",
   "execution_count": 298,
   "metadata": {},
   "outputs": [],
   "source": [
    "import numpy as np\n",
    "import scipy.linalg as la\n",
    "from sklearn.metrics import confusion_matrix\n",
    "import seaborn as sns\n",
    "import matplotlib.pyplot as plt\n",
    "from numba import jit"
   ]
  },
  {
   "cell_type": "code",
   "execution_count": null,
   "metadata": {},
   "outputs": [],
   "source": [
    "def thred(z,delta):\n",
    "    return np.sign(z)*(np.abs(z)>=delta)*(np.abs(z)-delta)\n",
    "\n",
    "def ssvd(X,gamu = 2, gamv =2, merr = 10**(-4), niter = 100):\n",
    "    n,d = X.shape\n",
    "    #initial value of u and v\n",
    "    U,s,VT = la.svd(X,full_matrices=False)\n",
    "    u0 = U[:,0]\n",
    "    v0 = VT.T[:,0]\n",
    "    \n",
    "    ud = 1\n",
    "    vd = 1\n",
    "    count = 0\n",
    "    SST  = np.sum(X*X)\n",
    "    \n",
    "    while(ud>merr or vd>merr):\n",
    "        count = count + 1\n",
    "        \n",
    "        # Update v\n",
    "        z = X.T @ u0\n",
    "        winv = np.abs(z)**gamv # weight inverse\n",
    "        sigsq = np.abs(SST-np.sum(z*z))/(n*d-d)\n",
    "        \n",
    "        cand = z*winv  #candidate lambda\n",
    "        delt = np.sort(np.append(np.abs(cand),0))\n",
    "        delt_uniq = np.unique(delt)\n",
    "        Bv = np.ones(len(delt_uniq)-1)*float(\"inf\")\n",
    "        \n",
    "        ind = np.where(winv>10^(-8))\n",
    "        cand1 = cand[ind]\n",
    "        winv1 = winv[ind]\n",
    "        for i in range(len(Bv)):\n",
    "            temp2 = thred(cand1,delta = delt_uniq[i])\n",
    "            temp2 = temp2/winv1\n",
    "            temp3 = np.zeros(d)\n",
    "            temp3[ind] = temp2\n",
    "            Bv[i] = np.sum((X - u0[:,None] @ temp3[None,:])**2)/sigsq + np.sum(temp2!=0)*np.log(n*d)\n",
    "        \n",
    "        Iv = min(np.where(Bv== np.min(Bv))) #min BIC\n",
    "        th = delt_uniq[Iv]\n",
    "        temp2 = thred(cand1,delta = th)\n",
    "        temp2 = temp2/winv1\n",
    "        v1 = np.zeros(d)\n",
    "        v1[ind] = temp2\n",
    "        v1 = v1/(np.sqrt((np.sum(v1*v1)))) #v_new\n",
    "        \n",
    "        # Updating u\n",
    "        z = X @ v1\n",
    "        winu = np.abs(z)**gamu\n",
    "        sigsq = np.abs(SST - np.sum(z*z))/(n*d-n)\n",
    "        cand = z*winu\n",
    "        delt = np.sort(np.append(np.abs(cand),0))\n",
    "        delt_uniq = np.unique(delt)\n",
    "        Bu = np.ones(len(delt_uniq)-1)*float(\"inf\")\n",
    "        ind = np.where(winu > 10^(-8))\n",
    "        cand1 = cand[ind]\n",
    "        winu1 = winu[ind]\n",
    "        for i in range(len(Bu)):\n",
    "            temp2 = thred(cand1,delta = delt_uniq[i])\n",
    "            temp2 = temp2/winu1\n",
    "            temp3 = np.zeros(n)\n",
    "            temp3[ind] = temp2\n",
    "            Bu[i] = np.sum((X - temp3[:,None] @ v1[None,:])**2)/sigsq + np.sum(temp2!=0)*np.log(n*d)\n",
    "        Iu = min(np.where(Bu==np.min(Bu)))\n",
    "        th = delt_uniq[Iu]\n",
    "        temp2 = thred(cand1,delta = th)\n",
    "        temp2 = temp2/winu1\n",
    "        u1 = np.zeros(n)\n",
    "        u1[ind] =  temp2\n",
    "        u1 = u1/((np.sum(u1*u1))**0.5)\n",
    "        \n",
    "        \n",
    "        ud = np.sqrt(np.sum((u0-u1)*(u0-u1)))\n",
    "        vd = np.sqrt(np.sum((v0-v1)*(v0-v1)))\n",
    "        \n",
    "        if count > niter :\n",
    "            print(\"Fail to converge! Increase the niter!\")\n",
    "            break\n",
    "        \n",
    "        u0 = u1\n",
    "        v0 = v1\n",
    "        \n",
    "    s = u1[None, :] @ X @ v1[:, None] #ssvd layer is suv.T\n",
    "    return u1, v1, s, count     "
   ]
  },
  {
   "cell_type": "markdown",
   "metadata": {},
   "source": [
    "#  Rank-1 Approximation"
   ]
  },
  {
   "cell_type": "code",
   "execution_count": 300,
   "metadata": {},
   "outputs": [],
   "source": [
    "u_ = np.arange(10,2,-1)\n",
    "r1 = np.ones(17)*2\n",
    "r2 = np.zeros(75)\n",
    "u = np.concatenate([u_,r1,r2])\n",
    "u = u/np.linalg.norm(u)\n",
    "v_ = np.array([10,-10,8,-8,5,-5,3,3,3,3,3,-3,-3,-3,-3,-3])\n",
    "r3 = np.zeros(34)\n",
    "v = np.concatenate([v_,r3])\n",
    "v = v/np.linalg.norm(v)\n",
    "s = 50\n",
    "X_star = s* u.reshape(len(u),1)@v.reshape(1,len(v))"
   ]
  },
  {
   "cell_type": "code",
   "execution_count": 29,
   "metadata": {},
   "outputs": [],
   "source": [
    "u_zero = np.zeros(100)\n",
    "v_zero = np.zeros(100)\n",
    "uzero_correct = np.zeros(100)\n",
    "vzero_correct = np.zeros(100)\n",
    "unon_correct = np.zeros(100)\n",
    "vnon_correct = np.zeros(100)\n",
    "misclassification_u = np.zeros(100)\n",
    "misclassification_v = np.zeros(100)\n",
    "u_recode = (abs(u)>1e-6)*1\n",
    "v_recode = (abs(v)>1e-6)*1"
   ]
  },
  {
   "cell_type": "markdown",
   "metadata": {},
   "source": [
    "## SSVD"
   ]
  },
  {
   "cell_type": "code",
   "execution_count": 31,
   "metadata": {},
   "outputs": [],
   "source": [
    "for i in range(100):\n",
    "    X = X_star+np.random.normal(0,1,100*50).reshape(100,50)\n",
    "    u1, v1, s, count = ssvd(X)\n",
    "    u_zero[i] = sum(abs(u1)<1e-6)\n",
    "    v_zero[i] = sum(abs(v1)<1e-6)\n",
    "    u1_recode = (abs(u1)>1e-6)*1\n",
    "    v1_recode = (abs(v1)>1e-6)*1\n",
    "    u_table = confusion_matrix(u_recode,u1_recode)\n",
    "    v_table = confusion_matrix(v_recode,v1_recode)\n",
    "    uzero_correct[i] = u_table[0][0]\n",
    "    vzero_correct[i] = v_table[0][0]\n",
    "    unon_correct[i] = u_table[1][1]\n",
    "    vnon_correct[i] = v_table[1][1]\n",
    "    misclassification_u[i] = (u_table[0][1]+u_table[1][0])/100\n",
    "    misclassification_v[i] = (v_table[0][1]+v_table[1][0])/50    "
   ]
  },
  {
   "cell_type": "code",
   "execution_count": 38,
   "metadata": {},
   "outputs": [
    {
     "data": {
      "text/plain": [
       "(74.02, 33.76)"
      ]
     },
     "execution_count": 38,
     "metadata": {},
     "output_type": "execute_result"
    }
   ],
   "source": [
    "# Avg number of zeros(true)\n",
    "(np.mean(u_zero),np.mean(v_zero))"
   ]
  },
  {
   "cell_type": "code",
   "execution_count": 43,
   "metadata": {},
   "outputs": [
    {
     "data": {
      "text/plain": [
       "(73.73, 33.76)"
      ]
     },
     "execution_count": 43,
     "metadata": {},
     "output_type": "execute_result"
    }
   ],
   "source": [
    "# Avg number of correctly identified zeros\n",
    "(np.mean(uzero_correct),np.mean(vzero_correct))"
   ]
  },
  {
   "cell_type": "code",
   "execution_count": 44,
   "metadata": {},
   "outputs": [
    {
     "data": {
      "text/plain": [
       "(0.9830666666666665, 0.9929411764705884)"
      ]
     },
     "execution_count": 44,
     "metadata": {},
     "output_type": "execute_result"
    }
   ],
   "source": [
    "# percentage\n",
    "(np.mean(uzero_correct/75),np.mean(vzero_correct/34))"
   ]
  },
  {
   "cell_type": "code",
   "execution_count": 40,
   "metadata": {},
   "outputs": [
    {
     "data": {
      "text/plain": [
       "(24.71, 16.0)"
      ]
     },
     "execution_count": 40,
     "metadata": {},
     "output_type": "execute_result"
    }
   ],
   "source": [
    "# Avg number of correctly identified nonzeros\n",
    "(np.mean(unon_correct),np.mean(vnon_correct))"
   ]
  },
  {
   "cell_type": "code",
   "execution_count": 45,
   "metadata": {},
   "outputs": [
    {
     "data": {
      "text/plain": [
       "(0.9883999999999997, 1.0)"
      ]
     },
     "execution_count": 45,
     "metadata": {},
     "output_type": "execute_result"
    }
   ],
   "source": [
    "# percentage\n",
    "(np.mean(unon_correct/25),np.mean(vnon_correct/16))"
   ]
  },
  {
   "cell_type": "code",
   "execution_count": 41,
   "metadata": {},
   "outputs": [
    {
     "data": {
      "text/plain": [
       "(0.015599999999999998, 0.0048)"
      ]
     },
     "execution_count": 41,
     "metadata": {},
     "output_type": "execute_result"
    }
   ],
   "source": [
    "# Misclassification rate\n",
    "(np.mean(misclassification_u),np.mean(misclassification_v))"
   ]
  },
  {
   "cell_type": "markdown",
   "metadata": {},
   "source": [
    "## SVD"
   ]
  },
  {
   "cell_type": "code",
   "execution_count": 49,
   "metadata": {},
   "outputs": [],
   "source": [
    "u_zero = np.zeros(100)\n",
    "v_zero = np.zeros(100)\n",
    "uzero_correct = np.zeros(100)\n",
    "vzero_correct = np.zeros(100)\n",
    "unon_correct = np.zeros(100)\n",
    "vnon_correct = np.zeros(100)\n",
    "misclassification_u = np.zeros(100)\n",
    "misclassification_v = np.zeros(100)\n",
    "u_recode = (abs(u)>1e-6)*1\n",
    "v_recode = (abs(v)>1e-6)*1"
   ]
  },
  {
   "cell_type": "code",
   "execution_count": 50,
   "metadata": {},
   "outputs": [],
   "source": [
    "for i in range(100):\n",
    "    X = X_star+np.random.normal(0,1,100*50).reshape(100,50)\n",
    "    U,S,VT = la.svd(X)\n",
    "    u1 = U[:,0]\n",
    "    v1 = VT[:,0]\n",
    "    u_zero[i] = sum(abs(u1)<1e-6)\n",
    "    v_zero[i] = sum(abs(v1)<1e-6)\n",
    "    u1_recode = (abs(u1)>1e-6)*1\n",
    "    v1_recode = (abs(v1)>1e-6)*1\n",
    "    u_table = confusion_matrix(u_recode,u1_recode)\n",
    "    v_table = confusion_matrix(v_recode,v1_recode)\n",
    "    uzero_correct[i] = u_table[0][0]\n",
    "    vzero_correct[i] = v_table[0][0]\n",
    "    unon_correct[i] = u_table[1][1]\n",
    "    vnon_correct[i] = v_table[1][1]\n",
    "    misclassification_u[i] = (u_table[0][1]+u_table[1][0])/100\n",
    "    misclassification_v[i] = (v_table[0][1]+v_table[1][0])/50    "
   ]
  },
  {
   "cell_type": "code",
   "execution_count": 51,
   "metadata": {},
   "outputs": [
    {
     "data": {
      "text/plain": [
       "(0.0, 0.0)"
      ]
     },
     "execution_count": 51,
     "metadata": {},
     "output_type": "execute_result"
    }
   ],
   "source": [
    "# Avg number of zeros(true)\n",
    "(np.mean(u_zero),np.mean(v_zero))"
   ]
  },
  {
   "cell_type": "code",
   "execution_count": 52,
   "metadata": {},
   "outputs": [
    {
     "data": {
      "text/plain": [
       "(0.0, 0.0)"
      ]
     },
     "execution_count": 52,
     "metadata": {},
     "output_type": "execute_result"
    }
   ],
   "source": [
    "# Avg number of correctly identified zeros\n",
    "(np.mean(uzero_correct),np.mean(vzero_correct))"
   ]
  },
  {
   "cell_type": "code",
   "execution_count": 53,
   "metadata": {},
   "outputs": [
    {
     "data": {
      "text/plain": [
       "(0.0, 0.0)"
      ]
     },
     "execution_count": 53,
     "metadata": {},
     "output_type": "execute_result"
    }
   ],
   "source": [
    "# percentage\n",
    "(np.mean(uzero_correct/75),np.mean(vzero_correct/34))"
   ]
  },
  {
   "cell_type": "code",
   "execution_count": 54,
   "metadata": {},
   "outputs": [
    {
     "data": {
      "text/plain": [
       "(25.0, 16.0)"
      ]
     },
     "execution_count": 54,
     "metadata": {},
     "output_type": "execute_result"
    }
   ],
   "source": [
    "# Avg number of correctly identified nonzeros\n",
    "(np.mean(unon_correct),np.mean(vnon_correct))"
   ]
  },
  {
   "cell_type": "code",
   "execution_count": 55,
   "metadata": {},
   "outputs": [
    {
     "data": {
      "text/plain": [
       "(1.0, 1.0)"
      ]
     },
     "execution_count": 55,
     "metadata": {},
     "output_type": "execute_result"
    }
   ],
   "source": [
    "# percentage\n",
    "(np.mean(unon_correct/25),np.mean(vnon_correct/16))"
   ]
  },
  {
   "cell_type": "code",
   "execution_count": 56,
   "metadata": {},
   "outputs": [
    {
     "data": {
      "text/plain": [
       "(0.75, 0.6800000000000002)"
      ]
     },
     "execution_count": 56,
     "metadata": {},
     "output_type": "execute_result"
    }
   ],
   "source": [
    "# Misclassification rate\n",
    "(np.mean(misclassification_u),np.mean(misclassification_v))"
   ]
  },
  {
   "cell_type": "code",
   "execution_count": null,
   "metadata": {},
   "outputs": [],
   "source": []
  },
  {
   "cell_type": "markdown",
   "metadata": {},
   "source": [
    "# Higher rank approximation"
   ]
  },
  {
   "cell_type": "code",
   "execution_count": 319,
   "metadata": {},
   "outputs": [],
   "source": [
    "X_star = np.zeros(100*50).reshape(50,100)"
   ]
  },
  {
   "cell_type": "code",
   "execution_count": 320,
   "metadata": {},
   "outputs": [],
   "source": [
    "for i in range(50):\n",
    "    for j in range(26,76):\n",
    "        t = (24**2-(i-25)**2-(j-50)**2)/100\n",
    "        if abs(t)>1:\n",
    "            X_star[i,j] = t\n",
    "        else:\n",
    "            X_star[i,j] = 0    \n",
    "X_star = X_star/np.max(X_star)"
   ]
  },
  {
   "cell_type": "code",
   "execution_count": 323,
   "metadata": {},
   "outputs": [
    {
     "data": {
      "image/png": "[encoded data removed]",
      "text/plain": [
       "<Figure size 720x216 with 2 Axes>"
      ]
     },
     "metadata": {},
     "output_type": "display_data"
    }
   ],
   "source": [
    "plt.figure(figsize=(10,3))\n",
    "sns.heatmap(X_star,vmin=-1, vmax=1,cmap=\"bwr\")\n",
    "plt.savefig(\"simulation2.eps\")\n",
    "pass"
   ]
  },
  {
   "cell_type": "code",
   "execution_count": 281,
   "metadata": {},
   "outputs": [],
   "source": [
    "X_true = (abs(np.ravel(X_star,order = \"C\"))>1e-6)*1"
   ]
  },
  {
   "cell_type": "code",
   "execution_count": 282,
   "metadata": {},
   "outputs": [],
   "source": [
    "X_rate = np.zeros(9)"
   ]
  },
  {
   "cell_type": "code",
   "execution_count": 283,
   "metadata": {},
   "outputs": [],
   "source": [
    "for k in range(1,10):\n",
    "    X = X_star+np.random.normal(0,1,100*50).reshape(50,100)\n",
    "    U,S,Vt = la.svd(X)\n",
    "    layer = S[:k] * U[:,:k] @ Vt[:k,:]\n",
    "    layer_true = (abs(np.ravel(layer,order = \"C\"))>1e-6)*1\n",
    "    table_matrix = confusion_matrix(X_true,layer_true)\n",
    "    X_rate[k-1] = (table_matrix[0][0]+table_matrix[1][1])/5000"
   ]
  },
  {
   "cell_type": "code",
   "execution_count": 284,
   "metadata": {},
   "outputs": [
    {
     "data": {
      "image/png": "[encoded data removed]",
      "text/plain": [
       "<Figure size 432x288 with 1 Axes>"
      ]
     },
     "metadata": {},
     "output_type": "display_data"
    }
   ],
   "source": [
    "plt.plot(list(range(1,10)),X_rate)\n",
    "plt.title(\"Correctly classfied entries\")\n",
    "pass"
   ]
  },
  {
   "cell_type": "markdown",
   "metadata": {},
   "source": [
    "### SSVD layer1"
   ]
  },
  {
   "cell_type": "code",
   "execution_count": 289,
   "metadata": {},
   "outputs": [
    {
     "data": {
      "text/plain": [
       "0.784"
      ]
     },
     "execution_count": 289,
     "metadata": {},
     "output_type": "execute_result"
    }
   ],
   "source": [
    "X = X_star+np.random.normal(0,1,100*50).reshape(50,100)\n",
    "u1, v1, s, count = ssvd(X)\n",
    "layer1 = s * u1[:, None] * v1[None, :]\n",
    "layer_true = (abs(np.ravel(layer1,order = \"C\"))>1e-6)*1\n",
    "table_matrix = confusion_matrix(X_true,layer_true)\n",
    "(table_matrix[0][0]+table_matrix[1][1])/5000"
   ]
  },
  {
   "cell_type": "markdown",
   "metadata": {},
   "source": [
    "### layer2"
   ]
  },
  {
   "cell_type": "code",
   "execution_count": 290,
   "metadata": {},
   "outputs": [
    {
     "data": {
      "text/plain": [
       "0.7842"
      ]
     },
     "execution_count": 290,
     "metadata": {},
     "output_type": "execute_result"
    }
   ],
   "source": [
    "X2 = X-layer1\n",
    "u2, v2, s2, count2 = ssvd(X2)\n",
    "layer2 = s2 * u2[:, None] * v2[None, :]\n",
    "layer_2 = layer1+layer2\n",
    "layer_true = (abs(np.ravel(layer_2,order = \"C\"))>1e-6)*1\n",
    "table_matrix = confusion_matrix(X_true,layer_true)\n",
    "(table_matrix[0][0]+table_matrix[1][1])/5000"
   ]
  },
  {
   "cell_type": "markdown",
   "metadata": {},
   "source": [
    "### layer3"
   ]
  },
  {
   "cell_type": "code",
   "execution_count": 291,
   "metadata": {},
   "outputs": [
    {
     "data": {
      "text/plain": [
       "0.784"
      ]
     },
     "execution_count": 291,
     "metadata": {},
     "output_type": "execute_result"
    }
   ],
   "source": [
    "X3 = X2-layer2\n",
    "u3, v3, s3, count3 = ssvd(X3)\n",
    "layer3 = s3 * u3[:, None] * v3[None, :]\n",
    "layer_3 = layer1+layer2+layer3\n",
    "layer_true = (abs(np.ravel(layer_3,order = \"C\"))>1e-6)*1\n",
    "table_matrix = confusion_matrix(X_true,layer_true)\n",
    "(table_matrix[0][0]+table_matrix[1][1])/5000"
   ]
  },
  {
   "cell_type": "code",
   "execution_count": null,
   "metadata": {},
   "outputs": [],
   "source": []
  }
 ],
 "metadata": {
  "kernelspec": {
   "display_name": "Python 3",
   "language": "python",
   "name": "python3"
  },
  "language_info": {
   "codemirror_mode": {
    "name": "ipython",
    "version": 3
   },
   "file_extension": ".py",
   "mimetype": "text/x-python",
   "name": "python",
   "nbconvert_exporter": "python",
   "pygments_lexer": "ipython3",
   "version": "3.6.5"
  }
 },
 "nbformat": 4,
 "nbformat_minor": 2
}
